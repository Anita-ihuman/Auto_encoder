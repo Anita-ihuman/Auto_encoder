{
  "nbformat": 4,
  "nbformat_minor": 0,
  "metadata": {
    "colab": {
      "name": "autoencoder.ipynb",
      "provenance": [],
      "authorship_tag": "ABX9TyMxxSyXzPw8bg4XYtzaMQTe",
      "include_colab_link": true
    },
    "kernelspec": {
      "name": "python3",
      "display_name": "Python 3"
    },
    "accelerator": "GPU"
  },
  "cells": [
    {
      "cell_type": "markdown",
      "metadata": {
        "id": "view-in-github",
        "colab_type": "text"
      },
      "source": [
        "<a href=\"https://colab.research.google.com/github/shivamsouravjha/Auto_encoder/blob/master/autoencoder.ipynb\" target=\"_parent\"><img src=\"https://colab.research.google.com/assets/colab-badge.svg\" alt=\"Open In Colab\"/></a>"
      ]
    },
    {
      "cell_type": "code",
      "metadata": {
        "id": "zU6OSMpmTuqF",
        "outputId": "541801cc-51de-49ba-d528-28f702c79e82",
        "colab": {
          "base_uri": "https://localhost:8080/",
          "height": 1000
        }
      },
      "source": [
        "from keras.layers import Input, Dense, Conv2D, MaxPooling2D, UpSampling2D\n",
        "from keras.models import Model\n",
        "from keras import backend as K\n",
        "from keras.datasets import mnist\n",
        "import numpy as np\n",
        "from keras.callbacks import TensorBoard\n",
        "import matplotlib.pyplot as plt\n",
        "\n",
        "input_img = Input(shape=(28,28,1))\n",
        "#encoding\n",
        "x = Conv2D(32, (3, 3), activation='relu', padding='same')(input_img)\n",
        "x = MaxPooling2D((2, 2), padding='same')(x)\n",
        "\n",
        " \n",
        "x = Conv2D(16, (3, 3), activation='relu', padding='same')(x)\n",
        "x = MaxPooling2D((2, 2), padding='same')(x)\n",
        "\n",
        "x = Conv2D(8, (3, 3), activation='relu', padding='same')(x)\n",
        "encoded = MaxPooling2D((2, 2), padding='same')(x)\n",
        "\n",
        "#decoding\n",
        "x = Conv2D(8, (3, 3), activation='relu', padding='same')(encoded)\n",
        "x = UpSampling2D((2, 2))(x)\n",
        "\n",
        "x = Conv2D(16, (3, 3), activation='relu', padding='same')(x)\n",
        "x = UpSampling2D((2, 2))(x)\n",
        "\n",
        "\n",
        "x = Conv2D(32, (3, 3), activation='relu')(x)\n",
        "x = UpSampling2D((2, 2))(x)\n",
        "\n",
        "decoded = Conv2D(1, (3, 3), activation='sigmoid', padding='same')(x)\n",
        "\n",
        "autoencoder = Model(input_img, decoded)\n",
        "autoencoder.compile(optimizer='adadelta', loss='binary_crossentropy')\n",
        "\n",
        "(x_train, _), (x_test, _) = mnist.load_data()\n",
        "\n",
        "x_train = x_train.astype('float32') / 255.\n",
        "x_test = x_test.astype('float32') / 255.\n",
        "x_train = np.reshape(x_train, (len(x_train), 28, 28, 1))  # adapt this if using `channels_first` image data format\n",
        "x_test = np.reshape(x_test, (len(x_test), 28, 28, 1))  # adapt this if using `channels_first` image data format\n",
        "\n",
        "autoencoder.fit(x_train, x_train,\n",
        "                epochs=50,\n",
        "                batch_size=128,\n",
        "                shuffle=True,\n",
        "                validation_data=(x_test, x_test),\n",
        "                callbacks=[TensorBoard(log_dir='/tmp/autoencoder')])\n",
        "\n",
        "decoded_imgs = autoencoder.predict(x_test)\n",
        "\n"
      ],
      "execution_count": 3,
      "outputs": [
        {
          "output_type": "stream",
          "text": [
            "Epoch 1/50\n",
            "  2/469 [..............................] - ETA: 26s - loss: 0.6988WARNING:tensorflow:Callbacks method `on_train_batch_end` is slow compared to the batch time (batch time: 0.0101s vs `on_train_batch_end` time: 0.0942s). Check your callbacks.\n",
            "469/469 [==============================] - 8s 16ms/step - loss: 0.6972 - val_loss: 0.6957\n",
            "Epoch 2/50\n",
            "469/469 [==============================] - 7s 16ms/step - loss: 0.6942 - val_loss: 0.6926\n",
            "Epoch 3/50\n",
            "469/469 [==============================] - 7s 16ms/step - loss: 0.6907 - val_loss: 0.6882\n",
            "Epoch 4/50\n",
            "469/469 [==============================] - 7s 16ms/step - loss: 0.6847 - val_loss: 0.6809\n",
            "Epoch 5/50\n",
            "469/469 [==============================] - 7s 16ms/step - loss: 0.6755 - val_loss: 0.6693\n",
            "Epoch 6/50\n",
            "469/469 [==============================] - 7s 16ms/step - loss: 0.6596 - val_loss: 0.6476\n",
            "Epoch 7/50\n",
            "469/469 [==============================] - 7s 16ms/step - loss: 0.6270 - val_loss: 0.6012\n",
            "Epoch 8/50\n",
            "469/469 [==============================] - 7s 16ms/step - loss: 0.5587 - val_loss: 0.5108\n",
            "Epoch 9/50\n",
            "469/469 [==============================] - 7s 16ms/step - loss: 0.4670 - val_loss: 0.4424\n",
            "Epoch 10/50\n",
            "469/469 [==============================] - 7s 16ms/step - loss: 0.4316 - val_loss: 0.4294\n",
            "Epoch 11/50\n",
            "469/469 [==============================] - 7s 16ms/step - loss: 0.4215 - val_loss: 0.4201\n",
            "Epoch 12/50\n",
            "469/469 [==============================] - 7s 16ms/step - loss: 0.4117 - val_loss: 0.4095\n",
            "Epoch 13/50\n",
            "469/469 [==============================] - 7s 16ms/step - loss: 0.4001 - val_loss: 0.3964\n",
            "Epoch 14/50\n",
            "469/469 [==============================] - 7s 16ms/step - loss: 0.3849 - val_loss: 0.3782\n",
            "Epoch 15/50\n",
            "469/469 [==============================] - 7s 16ms/step - loss: 0.3635 - val_loss: 0.3527\n",
            "Epoch 16/50\n",
            "469/469 [==============================] - 7s 16ms/step - loss: 0.3366 - val_loss: 0.3249\n",
            "Epoch 17/50\n",
            "469/469 [==============================] - 7s 16ms/step - loss: 0.3114 - val_loss: 0.3021\n",
            "Epoch 18/50\n",
            "469/469 [==============================] - 7s 16ms/step - loss: 0.2919 - val_loss: 0.2851\n",
            "Epoch 19/50\n",
            "469/469 [==============================] - 7s 16ms/step - loss: 0.2775 - val_loss: 0.2727\n",
            "Epoch 20/50\n",
            "469/469 [==============================] - 7s 16ms/step - loss: 0.2671 - val_loss: 0.2636\n",
            "Epoch 21/50\n",
            "469/469 [==============================] - 7s 16ms/step - loss: 0.2594 - val_loss: 0.2569\n",
            "Epoch 22/50\n",
            "469/469 [==============================] - 7s 16ms/step - loss: 0.2537 - val_loss: 0.2519\n",
            "Epoch 23/50\n",
            "469/469 [==============================] - 7s 16ms/step - loss: 0.2494 - val_loss: 0.2480\n",
            "Epoch 24/50\n",
            "469/469 [==============================] - 7s 16ms/step - loss: 0.2460 - val_loss: 0.2449\n",
            "Epoch 25/50\n",
            "469/469 [==============================] - 7s 16ms/step - loss: 0.2432 - val_loss: 0.2423\n",
            "Epoch 26/50\n",
            "469/469 [==============================] - 7s 16ms/step - loss: 0.2409 - val_loss: 0.2401\n",
            "Epoch 27/50\n",
            "469/469 [==============================] - 7s 16ms/step - loss: 0.2389 - val_loss: 0.2382\n",
            "Epoch 28/50\n",
            "469/469 [==============================] - 7s 16ms/step - loss: 0.2371 - val_loss: 0.2365\n",
            "Epoch 29/50\n",
            "469/469 [==============================] - 7s 16ms/step - loss: 0.2355 - val_loss: 0.2350\n",
            "Epoch 30/50\n",
            "469/469 [==============================] - 7s 16ms/step - loss: 0.2341 - val_loss: 0.2335\n",
            "Epoch 31/50\n",
            "469/469 [==============================] - 7s 16ms/step - loss: 0.2327 - val_loss: 0.2322\n",
            "Epoch 32/50\n",
            "469/469 [==============================] - 7s 16ms/step - loss: 0.2314 - val_loss: 0.2309\n",
            "Epoch 33/50\n",
            "469/469 [==============================] - 7s 16ms/step - loss: 0.2302 - val_loss: 0.2298\n",
            "Epoch 34/50\n",
            "469/469 [==============================] - 7s 16ms/step - loss: 0.2291 - val_loss: 0.2287\n",
            "Epoch 35/50\n",
            "469/469 [==============================] - 7s 16ms/step - loss: 0.2281 - val_loss: 0.2277\n",
            "Epoch 36/50\n",
            "469/469 [==============================] - 7s 16ms/step - loss: 0.2271 - val_loss: 0.2267\n",
            "Epoch 37/50\n",
            "469/469 [==============================] - 7s 16ms/step - loss: 0.2261 - val_loss: 0.2257\n",
            "Epoch 38/50\n",
            "469/469 [==============================] - 7s 16ms/step - loss: 0.2252 - val_loss: 0.2248\n",
            "Epoch 39/50\n",
            "469/469 [==============================] - 7s 16ms/step - loss: 0.2243 - val_loss: 0.2239\n",
            "Epoch 40/50\n",
            "469/469 [==============================] - 7s 16ms/step - loss: 0.2234 - val_loss: 0.2231\n",
            "Epoch 41/50\n",
            "469/469 [==============================] - 7s 16ms/step - loss: 0.2226 - val_loss: 0.2222\n",
            "Epoch 42/50\n",
            "469/469 [==============================] - 7s 16ms/step - loss: 0.2218 - val_loss: 0.2214\n",
            "Epoch 43/50\n",
            "469/469 [==============================] - 7s 16ms/step - loss: 0.2210 - val_loss: 0.2207\n",
            "Epoch 44/50\n",
            "469/469 [==============================] - 7s 16ms/step - loss: 0.2202 - val_loss: 0.2199\n",
            "Epoch 45/50\n",
            "469/469 [==============================] - 7s 16ms/step - loss: 0.2195 - val_loss: 0.2192\n",
            "Epoch 46/50\n",
            "469/469 [==============================] - 7s 16ms/step - loss: 0.2188 - val_loss: 0.2185\n",
            "Epoch 47/50\n",
            "469/469 [==============================] - 7s 16ms/step - loss: 0.2181 - val_loss: 0.2178\n",
            "Epoch 48/50\n",
            "469/469 [==============================] - 7s 16ms/step - loss: 0.2174 - val_loss: 0.2171\n",
            "Epoch 49/50\n",
            "469/469 [==============================] - 7s 16ms/step - loss: 0.2167 - val_loss: 0.2165\n",
            "Epoch 50/50\n",
            "469/469 [==============================] - 7s 16ms/step - loss: 0.2161 - val_loss: 0.2158\n"
          ],
          "name": "stdout"
        },
        {
          "output_type": "execute_result",
          "data": {
            "text/plain": [
              "(-0.5, 27.5, 27.5, -0.5)"
            ]
          },
          "metadata": {
            "tags": []
          },
          "execution_count": 3
        },
        {
          "output_type": "display_data",
          "data": {
            "image/png": "[encoded data removed]",
            "text/plain": [
              "<Figure size 432x288 with 2 Axes>"
            ]
          },
          "metadata": {
            "tags": [],
            "needs_background": "light"
          }
        }
      ]
    },
    {
      "cell_type": "code",
      "metadata": {
        "id": "R6PMY1d-e7aa",
        "outputId": "b6386798-4117-4a2d-880d-066c9e3823c9",
        "colab": {
          "base_uri": "https://localhost:8080/",
          "height": 200
        }
      },
      "source": [
        "img_size = 28\n",
        "plt.subplot(1,2,1)\n",
        "plt.imshow(x_test[9].reshape(img_size,img_size))\n",
        "plt.gray()\n",
        "plt.axis('off')\n",
        "plt.subplot(1,2,2)\n",
        "plt.imshow(decoded_imgs[9].reshape(img_size,img_size))\n",
        "plt.gray()\n",
        "plt.axis('off')"
      ],
      "execution_count": 5,
      "outputs": [
        {
          "output_type": "execute_result",
          "data": {
            "text/plain": [
              "(-0.5, 27.5, 27.5, -0.5)"
            ]
          },
          "metadata": {
            "tags": []
          },
          "execution_count": 5
        },
        {
          "output_type": "display_data",
          "data": {
            "image/png": "[encoded data removed]",
            "text/plain": [
              "<Figure size 432x288 with 2 Axes>"
            ]
          },
          "metadata": {
            "tags": [],
            "needs_background": "light"
          }
        }
      ]
    }
  ]
}